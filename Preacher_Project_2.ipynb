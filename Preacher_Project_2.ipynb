{
 "cells": [
  {
   "cell_type": "code",
   "execution_count": 64,
   "metadata": {},
   "outputs": [],
   "source": [
    "import requests\n",
    "import json\n",
    "import pandas as pd"
   ]
  },
  {
   "cell_type": "code",
   "execution_count": 65,
   "metadata": {},
   "outputs": [],
   "source": [
    "#Input starting URL\n",
    "\n",
    "start_url = \"https://api.eia.gov/series/?api_key=___&series_id=ELEC.GEN.ALL-\""
   ]
  },
  {
   "cell_type": "code",
   "execution_count": 66,
   "metadata": {},
   "outputs": [
    {
     "name": "stdout",
     "output_type": "stream",
     "text": [
      "<Response [200]>\n"
     ]
    }
   ],
   "source": [
    "print(requests.get(start_url))"
   ]
  },
  {
   "cell_type": "code",
   "execution_count": 67,
   "metadata": {},
   "outputs": [],
   "source": [
    "#Create a loop to gather data from all 50 states\n",
    "\n",
    "state=['AL','AK','AZ','AR','CA','CO','CT','DE','FL','GA',\n",
    "'HI','ID','IL','IN','IA','KS','KY','LA','ME','MD',\n",
    "'MA','MI','MN','MS','MO','MT','NE','NV','NH','NJ',\n",
    "'NM','NY','NC','ND','OH','OK','OR','PA','RI','SC',\n",
    "'SD','TN','TX','UT','VT','VA','WA','WV','WI','WY']\n"
   ]
  },
  {
   "cell_type": "code",
   "execution_count": 68,
   "metadata": {},
   "outputs": [],
   "source": [
    "end_url = \"-99.A\""
   ]
  },
  {
   "cell_type": "code",
   "execution_count": 79,
   "metadata": {},
   "outputs": [
    {
     "name": "stdout",
     "output_type": "stream",
     "text": [
      "{\"request\":{\"command\":\"series\",\"series_id\":\"ELEC.GEN.ALL-AL-99.A\"},\"series\":[{\"series_id\":\"ELEC.GEN.ALL-AL-99.A\",\"name\":\"Net generation : all fuels : Alabama : all sectors : annual\",\"units\":\"thousand megawatthours\",\"f\":\"A\",\"description\":\"Summation of all fuels used for electricity generation; All sectors; \",\"copyright\":\"None\",\"source\":\"EIA, U.S. Energy Information Administration\",\"iso3166\":\"USA-AL\",\"geography\":\"USA-AL\",\"start\":\"2001\",\"end\":\"2018\",\"updated\":\"2019-03-01T00:40:06-0500\",\"data\":[[\"2018\",144989.07358],[\"2017\",139964.25012],[\"2016\",142385.09821],[\"2015\",152477.42671],[\"2014\",149340.44709],[\"2013\",150572.92386],[\"2012\",152878.68769],[\"2011\",156339.20983],[\"2010\",152150.51206],[\"2009\",143255.55561],[\"2008\",145869.89518],[\"2007\",143826.27083],[\"2006\",140895.4413],[\"2005\",137948.58103],[\"2004\",137354.77084],[\"2003\",137487.222],[\"2002\",132920.67],[\"2001\",125345.113]]}]}\n",
      "{\"request\":{\"command\":\"series\",\"series_id\":\"ELEC.GEN.ALL-AK-99.A\"},\"series\":[{\"series_id\":\"ELEC.GEN.ALL-AK-99.A\",\"name\":\"Net generation : all fuels : Alaska : all sectors : annual\",\"units\":\"thousand megawatthours\",\"f\":\"A\",\"description\":\"Summation of all fuels used for electricity generation; All sectors; \",\"copyright\":\"None\",\"source\":\"EIA, U.S. Energy Information Administration\",\"iso3166\":\"USA-AK\",\"geography\":\"USA-AK\",\"start\":\"2001\",\"end\":\"2018\",\"updated\":\"2019-03-01T00:40:06-0500\",\"data\":[[\"2018\",6514.79244],[\"2017\",6497.4656],[\"2016\",6335.03351],[\"2015\",6284.9373],[\"2014\",6042.82963],[\"2013\",6496.82164],[\"2012\",6946.41882],[\"2011\",6871.03279],[\"2010\",6759.5757],[\"2009\",6702.15939],[\"2008\",6774.83438],[\"2007\",6821.39162],[\"2006\",6674.19677],[\"2005\",6576.65854],[\"2004\",6526.71686],[\"2003\",6338.732],[\"2002\",6767.325],[\"2001\",6743.766]]}]}\n",
      "{\"request\":{\"command\":\"series\",\"series_id\":\"ELEC.GEN.ALL-AZ-99.A\"},\"series\":[{\"series_id\":\"ELEC.GEN.ALL-AZ-99.A\",\"name\":\"Net generation : all fuels : Arizona : all sectors : annual\",\"units\":\"thousand megawatthours\",\"f\":\"A\",\"description\":\"Summation of all fuels used for electricity generation; All sectors; \",\"copyright\":\"None\",\"source\":\"EIA, U.S. Energy Information Administration\",\"iso3166\":\"USA-AZ\",\"geography\":\"USA-AZ\",\"start\":\"2001\",\"end\":\"2018\",\"updated\":\"2019-03-01T00:40:06-0500\",\"data\":[[\"2018\",112302.87024],[\"2017\",105851.72128],[\"2016\",108763.4493],[\"2015\",113142.0477],[\"2014\",112257.18746],[\"2013\",113325.98612],[\"2012\",110904.99359],[\"2011\",108125.35689],[\"2010\",111750.95746],[\"2009\",111971.25025],[\"2008\",119459.17238],[\"2007\",113340.97027],[\"2006\",104392.52828],[\"2005\",101478.65433],[\"2004\",104564.14305],[\"2003\",94396.218],[\"2002\",94131.666],[\"2001\",89911.272]]}]}\n",
      "{\"request\":{\"command\":\"series\",\"series_id\":\"ELEC.GEN.ALL-AR-99.A\"},\"series\":[{\"series_id\":\"ELEC.GEN.ALL-AR-99.A\",\"name\":\"Net generation : all fuels : Arkansas : all sectors : annual\",\"units\":\"thousand megawatthours\",\"f\":\"A\",\"description\":\"Summation of all fuels used for electricity generation; All sectors; \",\"copyright\":\"None\",\"source\":\"EIA, U.S. Energy Information Administration\",\"iso3166\":\"USA-AR\",\"geography\":\"USA-AR\",\"start\":\"2001\",\"end\":\"2018\",\"updated\":\"2019-03-01T00:40:06-0500\",\"data\":[[\"2018\",67134.04279],[\"2017\",60775.29807],[\"2016\",60445.05937],[\"2015\",55559.42755],[\"2014\",61592.13666],[\"2013\",60322.49214],[\"2012\",65005.67798],[\"2011\",61307.53589],[\"2010\",61000.18454],[\"2009\",57457.73903],[\"2008\",55050.52783],[\"2007\",54596.23556],[\"2006\",52168.70298],[\"2005\",47794.50885],[\"2004\",51927.63221],[\"2003\",50401.101],[\"2002\",47611.645],[\"2001\",47192.035]]}]}\n",
      "{\"request\":{\"command\":\"series\",\"series_id\":\"ELEC.GEN.ALL-CA-99.A\"},\"series\":[{\"series_id\":\"ELEC.GEN.ALL-CA-99.A\",\"name\":\"Net generation : all fuels : California : all sectors : annual\",\"units\":\"thousand megawatthours\",\"f\":\"A\",\"description\":\"Summation of all fuels used for electricity generation; All sectors; \",\"copyright\":\"None\",\"source\":\"EIA, U.S. Energy Information Administration\",\"iso3166\":\"USA-CA\",\"geography\":\"USA-CA\",\"start\":\"2001\",\"end\":\"2018\",\"updated\":\"2019-03-01T00:40:06-0500\",\"data\":[[\"2018\",197226.89159],[\"2017\",206146.39207],[\"2016\",196963.21538],[\"2015\",196703.85766],[\"2014\",198807.62178],[\"2013\",200077.11462],[\"2012\",199518.56657],[\"2011\",200804.84248],[\"2010\",204125.59554],[\"2009\",204776.13225],[\"2008\",207984.26283],[\"2007\",210847.58088],[\"2006\",216798.68818],[\"2005\",200292.81808],[\"2004\",194780.355],[\"2003\",192788.542],[\"2002\",184210.031],[\"2001\",198596.075]]}]}\n",
      "{\"request\":{\"command\":\"series\",\"series_id\":\"ELEC.GEN.ALL-CO-99.A\"},\"series\":[{\"series_id\":\"ELEC.GEN.ALL-CO-99.A\",\"name\":\"Net generation : all fuels : Colorado : all sectors : annual\",\"units\":\"thousand megawatthours\",\"f\":\"A\",\"description\":\"Summation of all fuels used for electricity generation; All sectors; \",\"copyright\":\"None\",\"source\":\"EIA, U.S. Energy Information Administration\",\"iso3166\":\"USA-CO\",\"geography\":\"USA-CO\",\"start\":\"2001\",\"end\":\"2018\",\"updated\":\"2019-03-01T00:40:06-0500\",\"data\":[[\"2018\",56009.94999],[\"2017\",53844.00606],[\"2016\",54418.48],[\"2015\",52393.07748],[\"2014\",53847.38591],[\"2013\",52937.43591],[\"2012\",52556.7011],[\"2011\",51432.55429],[\"2010\",50720.79178],[\"2009\",50565.95155],[\"2008\",53441.59356],[\"2007\",53907.49213],[\"2006\",50698.35285],[\"2005\",49616.69434],[\"2004\",47869.49241],[\"2003\",46616.787],[\"2002\",45600.388],[\"2001\",46876.002]]}]}\n",
      "{\"request\":{\"command\":\"series\",\"series_id\":\"ELEC.GEN.ALL-CT-99.A\"},\"series\":[{\"series_id\":\"ELEC.GEN.ALL-CT-99.A\",\"name\":\"Net generation : all fuels : Connecticut : all sectors : annual\",\"units\":\"thousand megawatthours\",\"f\":\"A\",\"description\":\"Summation of all fuels used for electricity generation; All sectors; \",\"copyright\":\"None\",\"source\":\"EIA, U.S. Energy Information Administration\",\"iso3166\":\"USA-CT\",\"geography\":\"USA-CT\",\"start\":\"2001\",\"end\":\"2018\",\"updated\":\"2019-03-01T00:40:06-0500\",\"data\":[[\"2018\",39042.22576],[\"2017\",34562.6539],[\"2016\",36496.55991],[\"2015\",37470.62225],[\"2014\",33676.98041],[\"2013\",35610.78932],[\"2012\",36117.54387],[\"2011\",33745.22061],[\"2010\",33349.62331],[\"2009\",31206.22203],[\"2008\",30409.47264],[\"2007\",33171.20923],[\"2006\",34681.73618],[\"2005\",33549.74678],[\"2004\",32633.40771],[\"2003\",29545.05],[\"2002\",31311.219],[\"2001\",30490.646]]}]}\n",
      "{\"request\":{\"command\":\"series\",\"series_id\":\"ELEC.GEN.ALL-DE-99.A\"},\"series\":[{\"series_id\":\"ELEC.GEN.ALL-DE-99.A\",\"name\":\"Net generation : all fuels : Delaware : all sectors : annual\",\"units\":\"thousand megawatthours\",\"f\":\"A\",\"description\":\"Summation of all fuels used for electricity generation; All sectors; \",\"copyright\":\"None\",\"source\":\"EIA, U.S. Energy Information Administration\",\"iso3166\":\"USA-DE\",\"geography\":\"USA-DE\",\"start\":\"2001\",\"end\":\"2018\",\"updated\":\"2019-03-01T00:40:06-0500\",\"data\":[[\"2018\",6013.7387],[\"2017\",7495.97627],[\"2016\",8731.26055],[\"2015\",7810.00556],[\"2014\",7703.58352],[\"2013\",7760.861],[\"2012\",8633.694],[\"2011\",6590.1948],[\"2010\",5627.645],[\"2009\",4841.56286],[\"2008\",7523.83862],[\"2007\",8534.16326],[\"2006\",7182.17937],[\"2005\",8136.56808],[\"2004\",7855.55258],[\"2003\",7392.287],[\"2002\",6002.489],[\"2001\",6807.684]]}]}\n",
      "{\"request\":{\"command\":\"series\",\"series_id\":\"ELEC.GEN.ALL-FL-99.A\"},\"series\":[{\"series_id\":\"ELEC.GEN.ALL-FL-99.A\",\"name\":\"Net generation : all fuels : Florida : all sectors : annual\",\"units\":\"thousand megawatthours\",\"f\":\"A\",\"description\":\"Summation of all fuels used for electricity generation; All sectors; \",\"copyright\":\"None\",\"source\":\"EIA, U.S. Energy Information Administration\",\"iso3166\":\"USA-FL\",\"geography\":\"USA-FL\",\"start\":\"2001\",\"end\":\"2018\",\"updated\":\"2019-03-01T00:40:06-0500\",\"data\":[[\"2018\",244897.51315],[\"2017\",238413.14904],[\"2016\",238262.14982],[\"2015\",237412.63315],[\"2014\",230015.9373],[\"2013\",222398.92398],[\"2012\",221096.13597],[\"2011\",221894.57408],[\"2010\",229095.93479],[\"2009\",217952.30839],[\"2008\",219636.81819],[\"2007\",225416.06022],[\"2006\",223751.62103],[\"2005\",220256.41181],[\"2004\",218117.92785],[\"2003\",212610.011],[\"2002\",203352.775],[\"2001\",190945.344]]}]}\n",
      "{\"request\":{\"command\":\"series\",\"series_id\":\"ELEC.GEN.ALL-GA-99.A\"},\"series\":[{\"series_id\":\"ELEC.GEN.ALL-GA-99.A\",\"name\":\"Net generation : all fuels : Georgia : all sectors : annual\",\"units\":\"thousand megawatthours\",\"f\":\"A\",\"description\":\"Summation of all fuels used for electricity generation; All sectors; \",\"copyright\":\"None\",\"source\":\"EIA, U.S. Energy Information Administration\",\"iso3166\":\"USA-GA\",\"geography\":\"USA-GA\",\"start\":\"2001\",\"end\":\"2018\",\"updated\":\"2019-03-01T00:40:06-0500\",\"data\":[[\"2018\",130060.60693],[\"2017\",127455.37554],[\"2016\",133380.41567],[\"2015\",128817.89761],[\"2014\",125837.22353],[\"2013\",120953.7343],[\"2012\",122306.36385],[\"2011\",124749.34116],[\"2010\",137576.94126],[\"2009\",128698.37644],[\"2008\",136173.39534],[\"2007\",145155.15835],[\"2006\",138010.20785],[\"2005\",136667.89195],[\"2004\",126812.71475],[\"2003\",124076.834],[\"2002\",126512.215],[\"2001\",118316.789]]}]}\n"
     ]
    },
    {
     "name": "stdout",
     "output_type": "stream",
     "text": [
      "{\"request\":{\"command\":\"series\",\"series_id\":\"ELEC.GEN.ALL-HI-99.A\"},\"series\":[{\"series_id\":\"ELEC.GEN.ALL-HI-99.A\",\"name\":\"Net generation : all fuels : Hawaii : all sectors : annual\",\"units\":\"thousand megawatthours\",\"f\":\"A\",\"description\":\"Summation of all fuels used for electricity generation; All sectors; \",\"copyright\":\"None\",\"source\":\"EIA, U.S. Energy Information Administration\",\"iso3166\":\"USA-HI\",\"geography\":\"USA-HI\",\"start\":\"2001\",\"end\":\"2018\",\"updated\":\"2019-03-01T00:40:06-0500\",\"data\":[[\"2018\",9991.38073],[\"2017\",9812.05003],[\"2016\",9948.84505],[\"2015\",10119.50026],[\"2014\",10204.15825],[\"2013\",10267.05227],[\"2012\",10469.26867],[\"2011\",10723.33291],[\"2010\",10836.03597],[\"2009\",11010.53289],[\"2008\",11376.38508],[\"2007\",11533.34958],[\"2006\",11559.17366],[\"2005\",11522.80535],[\"2004\",11410.40259],[\"2003\",10976.371],[\"2002\",11663.07],[\"2001\",10633.093]]}]}\n",
      "{\"request\":{\"command\":\"series\",\"series_id\":\"ELEC.GEN.ALL-ID-99.A\"},\"series\":[{\"series_id\":\"ELEC.GEN.ALL-ID-99.A\",\"name\":\"Net generation : all fuels : Idaho : all sectors : annual\",\"units\":\"thousand megawatthours\",\"f\":\"A\",\"description\":\"Summation of all fuels used for electricity generation; All sectors; \",\"copyright\":\"None\",\"source\":\"EIA, U.S. Energy Information Administration\",\"iso3166\":\"USA-ID\",\"geography\":\"USA-ID\",\"start\":\"2001\",\"end\":\"2018\",\"updated\":\"2019-03-01T00:40:06-0500\",\"data\":[[\"2018\",17402.78909],[\"2017\",17396.02356],[\"2016\",15660.93838],[\"2015\",15667.09473],[\"2014\",15184.4165],[\"2013\",15186.12821],[\"2012\",15499.08931],[\"2011\",16568.7859],[\"2010\",12024.5641],[\"2009\",13100.15185],[\"2008\",11970.55293],[\"2007\",11484.09063],[\"2006\",13386.08525],[\"2005\",10824.98385],[\"2004\",10863.03871],[\"2003\",10422.935],[\"2002\",9786.933],[\"2001\",9346.941]]}]}\n",
      "{\"request\":{\"command\":\"series\",\"series_id\":\"ELEC.GEN.ALL-IL-99.A\"},\"series\":[{\"series_id\":\"ELEC.GEN.ALL-IL-99.A\",\"name\":\"Net generation : all fuels : Illinois : all sectors : annual\",\"units\":\"thousand megawatthours\",\"f\":\"A\",\"description\":\"Summation of all fuels used for electricity generation; All sectors; \",\"copyright\":\"None\",\"source\":\"EIA, U.S. Energy Information Administration\",\"iso3166\":\"USA-IL\",\"geography\":\"USA-IL\",\"start\":\"2001\",\"end\":\"2018\",\"updated\":\"2019-03-01T00:40:06-0500\",\"data\":[[\"2018\",187863.96623],[\"2017\",183591.37723],[\"2016\",187289.13096],[\"2015\",193952.04003],[\"2014\",202143.87798],[\"2013\",203004.91948],[\"2012\",197565.36162],[\"2011\",199499.72804],[\"2010\",201351.87163],[\"2009\",193864.35727],[\"2008\",199475.17757],[\"2007\",200260.6812],[\"2006\",192426.95805],[\"2005\",194120.14583],[\"2004\",191957.77849],[\"2003\",189055.26],[\"2002\",188054.449],[\"2001\",179249.285]]}]}\n",
      "{\"request\":{\"command\":\"series\",\"series_id\":\"ELEC.GEN.ALL-IN-99.A\"},\"series\":[{\"series_id\":\"ELEC.GEN.ALL-IN-99.A\",\"name\":\"Net generation : all fuels : Indiana : all sectors : annual\",\"units\":\"thousand megawatthours\",\"f\":\"A\",\"description\":\"Summation of all fuels used for electricity generation; All sectors; \",\"copyright\":\"None\",\"source\":\"EIA, U.S. Energy Information Administration\",\"iso3166\":\"USA-IN\",\"geography\":\"USA-IN\",\"start\":\"2001\",\"end\":\"2018\",\"updated\":\"2019-03-01T00:40:06-0500\",\"data\":[[\"2018\",112150.12319],[\"2017\",98929.81848],[\"2016\",101759.05895],[\"2015\",104019.27476],[\"2014\",115395.39178],[\"2013\",110403.47711],[\"2012\",114695.72927],[\"2011\",122131.41396],[\"2010\",125180.73889],[\"2009\",116670.27986],[\"2008\",129510.29398],[\"2007\",130637.9985],[\"2006\",130489.78766],[\"2005\",130371.57252],[\"2004\",127770.39577],[\"2003\",124888.217],[\"2002\",125608.14],[\"2001\",122569.673]]}]}\n",
      "{\"request\":{\"command\":\"series\",\"series_id\":\"ELEC.GEN.ALL-IA-99.A\"},\"series\":[{\"series_id\":\"ELEC.GEN.ALL-IA-99.A\",\"name\":\"Net generation : all fuels : Iowa : all sectors : annual\",\"units\":\"thousand megawatthours\",\"f\":\"A\",\"description\":\"Summation of all fuels used for electricity generation; All sectors; \",\"copyright\":\"None\",\"source\":\"EIA, U.S. Energy Information Administration\",\"iso3166\":\"USA-IA\",\"geography\":\"USA-IA\",\"start\":\"2001\",\"end\":\"2018\",\"updated\":\"2019-03-01T00:40:06-0500\",\"data\":[[\"2018\",64187.18652],[\"2017\",57909.56614],[\"2016\",54392.5065],[\"2015\",56658.91846],[\"2014\",56853.28247],[\"2013\",56670.75692],[\"2012\",56675.40557],[\"2011\",56371.91265],[\"2010\",57508.72079],[\"2009\",51860.06313],[\"2008\",53086.78637],[\"2007\",49789.21697],[\"2006\",45483.46238],[\"2005\",44156.15992],[\"2004\",43248.189],[\"2003\",42116.192],[\"2002\",42528.384],[\"2001\",40658.512]]}]}\n",
      "{\"request\":{\"command\":\"series\",\"series_id\":\"ELEC.GEN.ALL-KS-99.A\"},\"series\":[{\"series_id\":\"ELEC.GEN.ALL-KS-99.A\",\"name\":\"Net generation : all fuels : Kansas : all sectors : annual\",\"units\":\"thousand megawatthours\",\"f\":\"A\",\"description\":\"Summation of all fuels used for electricity generation; All sectors; \",\"copyright\":\"None\",\"source\":\"EIA, U.S. Energy Information Administration\",\"iso3166\":\"USA-KS\",\"geography\":\"USA-KS\",\"start\":\"2001\",\"end\":\"2018\",\"updated\":\"2019-03-01T00:40:06-0500\",\"data\":[[\"2018\",52983.35991],[\"2017\",50933.30456],[\"2016\",47599.99057],[\"2015\",45527.12366],[\"2014\",49728.36311],[\"2013\",48472.5813],[\"2012\",44424.69077],[\"2011\",45359.84012],[\"2010\",47923.76218],[\"2009\",46677.30755],[\"2008\",46630.32137],[\"2007\",50122.19572],[\"2006\",45523.73631],[\"2005\",45862.69587],[\"2004\",46782.6588],[\"2003\",46567.56],[\"2002\",47188.446],[\"2001\",44748.523]]}]}\n",
      "{\"request\":{\"command\":\"series\",\"series_id\":\"ELEC.GEN.ALL-KY-99.A\"},\"series\":[{\"series_id\":\"ELEC.GEN.ALL-KY-99.A\",\"name\":\"Net generation : all fuels : Kentucky : all sectors : annual\",\"units\":\"thousand megawatthours\",\"f\":\"A\",\"description\":\"Summation of all fuels used for electricity generation; All sectors; \",\"copyright\":\"None\",\"source\":\"EIA, U.S. Energy Information Administration\",\"iso3166\":\"USA-KY\",\"geography\":\"USA-KY\",\"start\":\"2001\",\"end\":\"2018\",\"updated\":\"2019-03-01T00:40:06-0500\",\"data\":[[\"2018\",79191.13248],[\"2017\",73179.1957],[\"2016\",80273.50107],[\"2015\",83543.67059],[\"2014\",90896.43507],[\"2013\",89741.02122],[\"2012\",89949.6887],[\"2011\",98350.98218],[\"2010\",98217.65818],[\"2009\",90630.42662],[\"2008\",97863.34027],[\"2007\",97225.31941],[\"2006\",98792.01419],[\"2005\",97822.41914],[\"2004\",94529.94718],[\"2003\",91718.82],[\"2002\",92106.668],[\"2001\",95417.626]]}]}\n",
      "{\"request\":{\"command\":\"series\",\"series_id\":\"ELEC.GEN.ALL-LA-99.A\"},\"series\":[{\"series_id\":\"ELEC.GEN.ALL-LA-99.A\",\"name\":\"Net generation : all fuels : Louisiana : all sectors : annual\",\"units\":\"thousand megawatthours\",\"f\":\"A\",\"description\":\"Summation of all fuels used for electricity generation; All sectors; \",\"copyright\":\"None\",\"source\":\"EIA, U.S. Energy Information Administration\",\"iso3166\":\"USA-LA\",\"geography\":\"USA-LA\",\"start\":\"2001\",\"end\":\"2018\",\"updated\":\"2019-03-01T00:40:06-0500\",\"data\":[[\"2018\",101354.2789],[\"2017\",97719.20733],[\"2016\",107268.80356],[\"2015\",107812.35352],[\"2014\",104229.40163],[\"2013\",102010.17699],[\"2012\",103407.70581],[\"2011\",105490.73696],[\"2010\",102884.94019],[\"2009\",90993.6761],[\"2008\",92453.14138],[\"2007\",92578.32872],[\"2006\",90921.82942],[\"2005\",92616.8782],[\"2004\",98172.30865],[\"2003\",94885.04],[\"2002\",94970.964],[\"2001\",87894.377]]}]}\n",
      "{\"request\":{\"command\":\"series\",\"series_id\":\"ELEC.GEN.ALL-ME-99.A\"},\"series\":[{\"series_id\":\"ELEC.GEN.ALL-ME-99.A\",\"name\":\"Net generation : all fuels : Maine : all sectors : annual\",\"units\":\"thousand megawatthours\",\"f\":\"A\",\"description\":\"Summation of all fuels used for electricity generation; All sectors; \",\"copyright\":\"None\",\"source\":\"EIA, U.S. Energy Information Administration\",\"iso3166\":\"USA-ME\",\"geography\":\"USA-ME\",\"start\":\"2001\",\"end\":\"2018\",\"updated\":\"2019-03-01T00:40:06-0500\",\"data\":[[\"2018\",11450.68431],[\"2017\",11264.28],[\"2016\",11514.42707],[\"2015\",11741.26486],[\"2014\",13248.70989],[\"2013\",14030.03761],[\"2012\",15048.29623],[\"2011\",15973.68806],[\"2010\",17018.65964],[\"2009\",16349.84867],[\"2008\",17094.91944],[\"2007\",16128.56744],[\"2006\",16816.1727],[\"2005\",18843.97757],[\"2004\",19098.88545],[\"2003\",18971.635],[\"2002\",22535.033],[\"2001\",19564.821]]}]}\n",
      "{\"request\":{\"command\":\"series\",\"series_id\":\"ELEC.GEN.ALL-MD-99.A\"},\"series\":[{\"series_id\":\"ELEC.GEN.ALL-MD-99.A\",\"name\":\"Net generation : all fuels : Maryland : all sectors : annual\",\"units\":\"thousand megawatthours\",\"f\":\"A\",\"description\":\"Summation of all fuels used for electricity generation; All sectors; \",\"copyright\":\"None\",\"source\":\"EIA, U.S. Energy Information Administration\",\"iso3166\":\"USA-MD\",\"geography\":\"USA-MD\",\"start\":\"2001\",\"end\":\"2018\",\"updated\":\"2019-03-01T00:40:06-0500\",\"data\":[[\"2018\",43926.69205],[\"2017\",34104.23918],[\"2016\",37166.68726],[\"2015\",36365.54382],[\"2014\",37833.65242],[\"2013\",35850.81233],[\"2012\",37809.74355],[\"2011\",41818.06819],[\"2010\",43607.2639],[\"2009\",43774.83198],[\"2008\",47360.9529],[\"2007\",50197.92382],[\"2006\",48956.87965],[\"2005\",52661.60002],[\"2004\",52052.76985],[\"2003\",52244.237],[\"2002\",48279.088],[\"2001\",49062.34]]}]}\n",
      "{\"request\":{\"command\":\"series\",\"series_id\":\"ELEC.GEN.ALL-MA-99.A\"},\"series\":[{\"series_id\":\"ELEC.GEN.ALL-MA-99.A\",\"name\":\"Net generation : all fuels : Massachusetts : all sectors : annual\",\"units\":\"thousand megawatthours\",\"f\":\"A\",\"description\":\"Summation of all fuels used for electricity generation; All sectors; \",\"copyright\":\"None\",\"source\":\"EIA, U.S. Energy Information Administration\",\"iso3166\":\"USA-MA\",\"geography\":\"USA-MA\",\"start\":\"2001\",\"end\":\"2018\",\"updated\":\"2019-03-01T00:40:06-0500\",\"data\":[[\"2018\",27965.47356],[\"2017\",32204.36376],[\"2016\",31955.02169],[\"2015\",32085.96914],[\"2014\",31118.59132],[\"2013\",32885.02068],[\"2012\",35578.42149],[\"2011\",38054.82051],[\"2010\",42804.82379],[\"2009\",38966.65118],[\"2008\",42505.47848],[\"2007\",47075.97506],[\"2006\",45597.77537],[\"2005\",47515.4433],[\"2004\",47500.48255],[\"2003\",48385.024],[\"2002\",42027.818],[\"2001\",38478.434]]}]}\n",
      "{\"request\":{\"command\":\"series\",\"series_id\":\"ELEC.GEN.ALL-MI-99.A\"},\"series\":[{\"series_id\":\"ELEC.GEN.ALL-MI-99.A\",\"name\":\"Net generation : all fuels : Michigan : all sectors : annual\",\"units\":\"thousand megawatthours\",\"f\":\"A\",\"description\":\"Summation of all fuels used for electricity generation; All sectors; \",\"copyright\":\"None\",\"source\":\"EIA, U.S. Energy Information Administration\",\"iso3166\":\"USA-MI\",\"geography\":\"USA-MI\",\"start\":\"2001\",\"end\":\"2018\",\"updated\":\"2019-03-01T00:40:06-0500\",\"data\":[[\"2018\",115965.95372],[\"2017\",112313.50058],[\"2016\",112121.79002],[\"2015\",113008.05016],[\"2014\",106816.99101],[\"2013\",105417.80056],[\"2012\",108158.04967],[\"2011\",109169.50687],[\"2010\",111551.37129],[\"2009\",101202.60516],[\"2008\",114989.80581],[\"2007\",119309.9362],[\"2006\",112556.73849],[\"2005\",121619.7712],[\"2004\",118487.26942],[\"2003\",111347.06],[\"2002\",117889.087],[\"2001\",111845.61]]}]}\n",
      "{\"request\":{\"command\":\"series\",\"series_id\":\"ELEC.GEN.ALL-MN-99.A\"},\"series\":[{\"series_id\":\"ELEC.GEN.ALL-MN-99.A\",\"name\":\"Net generation : all fuels : Minnesota : all sectors : annual\",\"units\":\"thousand megawatthours\",\"f\":\"A\",\"description\":\"Summation of all fuels used for electricity generation; All sectors; \",\"copyright\":\"None\",\"source\":\"EIA, U.S. Energy Information Administration\",\"iso3166\":\"USA-MN\",\"geography\":\"USA-MN\",\"start\":\"2001\",\"end\":\"2018\",\"updated\":\"2019-03-01T00:40:06-0500\",\"data\":[[\"2018\",63234.28459],[\"2017\",58748.84085],[\"2016\",59478.75269],[\"2015\",56979.76789],[\"2014\",56998.32996],[\"2013\",51296.98761],[\"2012\",52754.43318],[\"2011\",53120.06149],[\"2010\",53670.227],[\"2009\",52491.84871],[\"2008\",54763.35986],[\"2007\",54477.64643],[\"2006\",53237.78913],[\"2005\",53018.99488],[\"2004\",52364.12664],[\"2003\",55050.995],[\"2002\",52777.965],[\"2001\",48523.226]]}]}\n",
      "{\"request\":{\"command\":\"series\",\"series_id\":\"ELEC.GEN.ALL-MS-99.A\"},\"series\":[{\"series_id\":\"ELEC.GEN.ALL-MS-99.A\",\"name\":\"Net generation : all fuels : Mississippi : all sectors : annual\",\"units\":\"thousand megawatthours\",\"f\":\"A\",\"description\":\"Summation of all fuels used for electricity generation; All sectors; \",\"copyright\":\"None\",\"source\":\"EIA, U.S. Energy Information Administration\",\"iso3166\":\"USA-MS\",\"geography\":\"USA-MS\",\"start\":\"2001\",\"end\":\"2018\",\"updated\":\"2019-03-01T00:40:06-0500\",\"data\":[[\"2018\",63516.2057],[\"2017\",59727.63655],[\"2016\",62881.29496],[\"2015\",64757.86359],[\"2014\",55127.09166],[\"2013\",52810.26389],[\"2012\",54584.295],[\"2011\",51570.94264],[\"2010\",54487.26002],[\"2009\",48701.48411],[\"2008\",48205.71103],[\"2007\",50043.68593],[\"2006\",46228.84737],[\"2005\",45067.4533],[\"2004\",43662.61318],[\"2003\",40148.278],[\"2002\",42888.812],[\"2001\",53446.452]]}]}\n",
      "{\"request\":{\"command\":\"series\",\"series_id\":\"ELEC.GEN.ALL-MO-99.A\"},\"series\":[{\"series_id\":\"ELEC.GEN.ALL-MO-99.A\",\"name\":\"Net generation : all fuels : Missouri : all sectors : annual\",\"units\":\"thousand megawatthours\",\"f\":\"A\",\"description\":\"Summation of all fuels used for electricity generation; All sectors; \",\"copyright\":\"None\",\"source\":\"EIA, U.S. Energy Information Administration\",\"iso3166\":\"USA-MO\",\"geography\":\"USA-MO\",\"start\":\"2001\",\"end\":\"2018\",\"updated\":\"2019-03-01T00:40:06-0500\",\"data\":[[\"2018\",82174.11178],[\"2017\",84607.31245],[\"2016\",78611.51254],[\"2015\",83640.06743],[\"2014\",87834.46821],[\"2013\",91626.59293],[\"2012\",91804.3206],[\"2011\",94876.3967],[\"2010\",92312.98942],[\"2009\",88354.27161],[\"2008\",91028.79541],[\"2007\",91153.08115],[\"2006\",91686.34291],[\"2005\",90828.23045],[\"2004\",87632.91035],[\"2003\",87225.087],[\"2002\",81162.198],[\"2001\",79544.873]]}]}\n",
      "{\"request\":{\"command\":\"series\",\"series_id\":\"ELEC.GEN.ALL-MT-99.A\"},\"series\":[{\"series_id\":\"ELEC.GEN.ALL-MT-99.A\",\"name\":\"Net generation : all fuels : Montana : all sectors : annual\",\"units\":\"thousand megawatthours\",\"f\":\"A\",\"description\":\"Summation of all fuels used for electricity generation; All sectors; \",\"copyright\":\"None\",\"source\":\"EIA, U.S. Energy Information Administration\",\"iso3166\":\"USA-MT\",\"geography\":\"USA-MT\",\"start\":\"2001\",\"end\":\"2018\",\"updated\":\"2019-03-01T00:40:06-0500\",\"data\":[[\"2018\",27423.90119],[\"2017\",28220.946],[\"2016\",27783.52924],[\"2015\",29302.40085],[\"2014\",30257.61608],[\"2013\",27687.32631],[\"2012\",27804.78243],[\"2011\",30128.54257],[\"2010\",29791.18057],[\"2009\",26712.73527],[\"2008\",29637.137],[\"2007\",28931.49304],[\"2006\",28243.5364],[\"2005\",27938.77774],[\"2004\",26788.76766],[\"2003\",26268.726],[\"2002\",25473.705],[\"2001\",24232.485]]}]}\n",
      "{\"request\":{\"command\":\"series\",\"series_id\":\"ELEC.GEN.ALL-NE-99.A\"},\"series\":[{\"series_id\":\"ELEC.GEN.ALL-NE-99.A\",\"name\":\"Net generation : all fuels : Nebraska : all sectors : annual\",\"units\":\"thousand megawatthours\",\"f\":\"A\",\"description\":\"Summation of all fuels used for electricity generation; All sectors; \",\"copyright\":\"None\",\"source\":\"EIA, U.S. Energy Information Administration\",\"iso3166\":\"USA-NE\",\"geography\":\"USA-NE\",\"start\":\"2001\",\"end\":\"2018\",\"updated\":\"2019-03-01T00:40:06-0500\",\"data\":[[\"2018\",36809.33729],[\"2017\",35407.0474],[\"2016\",36524.86927],[\"2015\",39883.39061],[\"2014\",39431.29074],[\"2013\",37104.62777],[\"2012\",34217.29245],[\"2011\",36095.051],[\"2010\",36630.0062],[\"2009\",34001.89214],[\"2008\",32373.52225],[\"2007\",32442.69878],[\"2006\",31669.96885],[\"2005\",31464.73362],[\"2004\",32008.70885],[\"2003\",30455.984],[\"2002\",31618.494],[\"2001\",30485.212]]}]}\n",
      "{\"request\":{\"command\":\"series\",\"series_id\":\"ELEC.GEN.ALL-NV-99.A\"},\"series\":[{\"series_id\":\"ELEC.GEN.ALL-NV-99.A\",\"name\":\"Net generation : all fuels : Nevada : all sectors : annual\",\"units\":\"thousand megawatthours\",\"f\":\"A\",\"description\":\"Summation of all fuels used for electricity generation; All sectors; \",\"copyright\":\"None\",\"source\":\"EIA, U.S. Energy Information Administration\",\"iso3166\":\"USA-NV\",\"geography\":\"USA-NV\",\"start\":\"2001\",\"end\":\"2018\",\"updated\":\"2019-03-01T00:40:06-0500\",\"data\":[[\"2018\",39929.09096],[\"2017\",38201.29435],[\"2016\",39787.005],[\"2015\",39046.78374],[\"2014\",36000.537],[\"2013\",36443.87359],[\"2012\",35173.2632],[\"2011\",31935.91791],[\"2010\",35146.24769],[\"2009\",37705.13277],[\"2008\",35089.97356],[\"2007\",32669.73589],[\"2006\",31860.02182],[\"2005\",40213.75184],[\"2004\",37667.43503],[\"2003\",33194.888],[\"2002\",32088.935],[\"2001\",33875.966]]}]}\n"
     ]
    },
    {
     "name": "stdout",
     "output_type": "stream",
     "text": [
      "{\"request\":{\"command\":\"series\",\"series_id\":\"ELEC.GEN.ALL-NH-99.A\"},\"series\":[{\"series_id\":\"ELEC.GEN.ALL-NH-99.A\",\"name\":\"Net generation : all fuels : New Hampshire : all sectors : annual\",\"units\":\"thousand megawatthours\",\"f\":\"A\",\"description\":\"Summation of all fuels used for electricity generation; All sectors; \",\"copyright\":\"None\",\"source\":\"EIA, U.S. Energy Information Administration\",\"iso3166\":\"USA-NH\",\"geography\":\"USA-NH\",\"start\":\"2001\",\"end\":\"2018\",\"updated\":\"2019-03-01T00:40:06-0500\",\"data\":[[\"2018\",17581.79277],[\"2017\",17446.84079],[\"2016\",19282.49308],[\"2015\",20015.8934],[\"2014\",19538.39498],[\"2013\",19778.52045],[\"2012\",19222.31892],[\"2011\",20065.941],[\"2010\",22195.91196],[\"2009\",20164.12197],[\"2008\",22876.99155],[\"2007\",23277.17115],[\"2006\",22063.69455],[\"2005\",24470.01315],[\"2004\",23875.78653],[\"2003\",21597.107],[\"2002\",15953.078],[\"2001\",15074.624]]}]}\n",
      "{\"request\":{\"command\":\"series\",\"series_id\":\"ELEC.GEN.ALL-NJ-99.A\"},\"series\":[{\"series_id\":\"ELEC.GEN.ALL-NJ-99.A\",\"name\":\"Net generation : all fuels : New Jersey : all sectors : annual\",\"units\":\"thousand megawatthours\",\"f\":\"A\",\"description\":\"Summation of all fuels used for electricity generation; All sectors; \",\"copyright\":\"None\",\"source\":\"EIA, U.S. Energy Information Administration\",\"iso3166\":\"USA-NJ\",\"geography\":\"USA-NJ\",\"start\":\"2001\",\"end\":\"2018\",\"updated\":\"2019-03-01T00:40:06-0500\",\"data\":[[\"2018\",75255.49297],[\"2017\",75644.51252],[\"2016\",77611.40309],[\"2015\",74608.85973],[\"2014\",68051.08585],[\"2013\",64750.94171],[\"2012\",65263.40795],[\"2011\",64694.09597],[\"2010\",65682.49363],[\"2009\",61811.23904],[\"2008\",63674.78903],[\"2007\",62671.24497],[\"2006\",60700.13861],[\"2005\",60549.58298],[\"2004\",55882.34166],[\"2003\",57399.351],[\"2002\",61569.387],[\"2001\",59421.26]]}]}\n",
      "{\"request\":{\"command\":\"series\",\"series_id\":\"ELEC.GEN.ALL-NM-99.A\"},\"series\":[{\"series_id\":\"ELEC.GEN.ALL-NM-99.A\",\"name\":\"Net generation : all fuels : New Mexico : all sectors : annual\",\"units\":\"thousand megawatthours\",\"f\":\"A\",\"description\":\"Summation of all fuels used for electricity generation; All sectors; \",\"copyright\":\"None\",\"source\":\"EIA, U.S. Energy Information Administration\",\"iso3166\":\"USA-NM\",\"geography\":\"USA-NM\",\"start\":\"2001\",\"end\":\"2018\",\"updated\":\"2019-03-01T00:40:06-0500\",\"data\":[[\"2018\",32639.33902],[\"2017\",33597.41264],[\"2016\",32912.04486],[\"2015\",32701.3983],[\"2014\",32306.20987],[\"2013\",35870.96518],[\"2012\",36635.90944],[\"2011\",38181.1393],[\"2010\",36251.54218],[\"2009\",39674.33868],[\"2008\",37009.83692],[\"2007\",35985.33282],[\"2006\",37265.62456],[\"2005\",35135.64202],[\"2004\",32940.36057],[\"2003\",32735.653],[\"2002\",30661.707],[\"2001\",33611.643]]}]}\n",
      "{\"request\":{\"command\":\"series\",\"series_id\":\"ELEC.GEN.ALL-NY-99.A\"},\"series\":[{\"series_id\":\"ELEC.GEN.ALL-NY-99.A\",\"name\":\"Net generation : all fuels : New York : all sectors : annual\",\"units\":\"thousand megawatthours\",\"f\":\"A\",\"description\":\"Summation of all fuels used for electricity generation; All sectors; \",\"copyright\":\"None\",\"source\":\"EIA, U.S. Energy Information Administration\",\"iso3166\":\"USA-NY\",\"geography\":\"USA-NY\",\"start\":\"2001\",\"end\":\"2018\",\"updated\":\"2019-03-01T00:40:06-0500\",\"data\":[[\"2018\",134155.65219],[\"2017\",128065.10254],[\"2016\",134417.10736],[\"2015\",138627.72053],[\"2014\",137122.20214],[\"2013\",136116.82997],[\"2012\",135768.24358],[\"2011\",137480.34695],[\"2010\",136961.65363],[\"2009\",133150.54968],[\"2008\",140322.10017],[\"2007\",145878.68744],[\"2006\",142265.4322],[\"2005\",146887.41865],[\"2004\",137964.79365],[\"2003\",137643.316],[\"2002\",139591.688],[\"2001\",143914.559]]}]}\n",
      "{\"request\":{\"command\":\"series\",\"series_id\":\"ELEC.GEN.ALL-NC-99.A\"},\"series\":[{\"series_id\":\"ELEC.GEN.ALL-NC-99.A\",\"name\":\"Net generation : all fuels : North Carolina : all sectors : annual\",\"units\":\"thousand megawatthours\",\"f\":\"A\",\"description\":\"Summation of all fuels used for electricity generation; All sectors; \",\"copyright\":\"None\",\"source\":\"EIA, U.S. Energy Information Administration\",\"iso3166\":\"USA-NC\",\"geography\":\"USA-NC\",\"start\":\"2001\",\"end\":\"2018\",\"updated\":\"2019-03-01T00:40:06-0500\",\"data\":[[\"2018\",134069.82973],[\"2017\",128468.23471],[\"2016\",130779.15707],[\"2015\",128388.44461],[\"2014\",128143.58813],[\"2013\",125936.29336],[\"2012\",116681.76322],[\"2011\",118389.85492],[\"2010\",128678.48325],[\"2009\",118407.40252],[\"2008\",125239.06286],[\"2007\",130115.30057],[\"2006\",125214.78441],[\"2005\",129748.57757],[\"2004\",126329.95675],[\"2003\",127582.319],[\"2002\",124468.03],[\"2001\",117495.85]]}]}\n",
      "{\"request\":{\"command\":\"series\",\"series_id\":\"ELEC.GEN.ALL-ND-99.A\"},\"series\":[{\"series_id\":\"ELEC.GEN.ALL-ND-99.A\",\"name\":\"Net generation : all fuels : North Dakota : all sectors : annual\",\"units\":\"thousand megawatthours\",\"f\":\"A\",\"description\":\"Summation of all fuels used for electricity generation; All sectors; \",\"copyright\":\"None\",\"source\":\"EIA, U.S. Energy Information Administration\",\"iso3166\":\"USA-ND\",\"geography\":\"USA-ND\",\"start\":\"2001\",\"end\":\"2018\",\"updated\":\"2019-03-01T00:40:06-0500\",\"data\":[[\"2018\",41770.81785],[\"2017\",41505.07357],[\"2016\",37856.45176],[\"2015\",37156.61235],[\"2014\",36462.50767],[\"2013\",35021.67273],[\"2012\",36125.15886],[\"2011\",35079.9001],[\"2010\",34739.54167],[\"2009\",34196.46668],[\"2008\",32734.57915],[\"2007\",31224.10504],[\"2006\",30881.1368],[\"2005\",31932.61542],[\"2004\",29936.1061],[\"2003\",31322.129],[\"2002\",31306.312],[\"2001\",30332.072]]}]}\n",
      "{\"request\":{\"command\":\"series\",\"series_id\":\"ELEC.GEN.ALL-OH-99.A\"},\"series\":[{\"series_id\":\"ELEC.GEN.ALL-OH-99.A\",\"name\":\"Net generation : all fuels : Ohio : all sectors : annual\",\"units\":\"thousand megawatthours\",\"f\":\"A\",\"description\":\"Summation of all fuels used for electricity generation; All sectors; \",\"copyright\":\"None\",\"source\":\"EIA, U.S. Energy Information Administration\",\"iso3166\":\"USA-OH\",\"geography\":\"USA-OH\",\"start\":\"2001\",\"end\":\"2018\",\"updated\":\"2019-03-01T00:40:06-0500\",\"data\":[[\"2018\",124761.02615],[\"2017\",119552.14043],[\"2016\",118922.0776],[\"2015\",121893.40148],[\"2014\",134476.40497],[\"2013\",137284.18868],[\"2012\",129745.73061],[\"2011\",135585.80447],[\"2010\",143598.33672],[\"2009\",136090.22524],[\"2008\",153412.25109],[\"2007\",155155.54535],[\"2006\",155434.07519],[\"2005\",156976.3228],[\"2004\",148345.90531],[\"2003\",146638.128],[\"2002\",147068.85],[\"2001\",142261.807]]}]}\n",
      "{\"request\":{\"command\":\"series\",\"series_id\":\"ELEC.GEN.ALL-OK-99.A\"},\"series\":[{\"series_id\":\"ELEC.GEN.ALL-OK-99.A\",\"name\":\"Net generation : all fuels : Oklahoma : all sectors : annual\",\"units\":\"thousand megawatthours\",\"f\":\"A\",\"description\":\"Summation of all fuels used for electricity generation; All sectors; \",\"copyright\":\"None\",\"source\":\"EIA, U.S. Energy Information Administration\",\"iso3166\":\"USA-OK\",\"geography\":\"USA-OK\",\"start\":\"2001\",\"end\":\"2018\",\"updated\":\"2019-03-01T00:40:06-0500\",\"data\":[[\"2018\",87106.54532],[\"2017\",73731.76391],[\"2016\",78655.00719],[\"2015\",76135.59588],[\"2014\",70155.5043],[\"2013\",73673.68026],[\"2012\",77896.58811],[\"2011\",74605.71361],[\"2010\",72250.73312],[\"2009\",75066.80926],[\"2008\",76328.90845],[\"2007\",72819.0951],[\"2006\",70614.88018],[\"2005\",68607.82716],[\"2004\",60729.56046],[\"2003\",60626.856],[\"2002\",59183.419],[\"2001\",55249.45]]}]}\n",
      "{\"request\":{\"command\":\"series\",\"series_id\":\"ELEC.GEN.ALL-OR-99.A\"},\"series\":[{\"series_id\":\"ELEC.GEN.ALL-OR-99.A\",\"name\":\"Net generation : all fuels : Oregon : all sectors : annual\",\"units\":\"thousand megawatthours\",\"f\":\"A\",\"description\":\"Summation of all fuels used for electricity generation; All sectors; \",\"copyright\":\"None\",\"source\":\"EIA, U.S. Energy Information Administration\",\"iso3166\":\"USA-OR\",\"geography\":\"USA-OR\",\"start\":\"2001\",\"end\":\"2018\",\"updated\":\"2019-03-01T00:40:06-0500\",\"data\":[[\"2018\",64836.4748],[\"2017\",62713.74747],[\"2016\",60182.01282],[\"2015\",57866.53464],[\"2014\",60119.9072],[\"2013\",59895.51466],[\"2012\",60932.73047],[\"2011\",59695.16413],[\"2010\",55126.99915],[\"2009\",56690.85643],[\"2008\",58718.43754],[\"2007\",55077.79394],[\"2006\",53340.69511],[\"2005\",49325.00253],[\"2004\",51381.27819],[\"2003\",48966.139],[\"2002\",47099.369],[\"2001\",45051.906]]}]}\n",
      "{\"request\":{\"command\":\"series\",\"series_id\":\"ELEC.GEN.ALL-PA-99.A\"},\"series\":[{\"series_id\":\"ELEC.GEN.ALL-PA-99.A\",\"name\":\"Net generation : all fuels : Pennsylvania : all sectors : annual\",\"units\":\"thousand megawatthours\",\"f\":\"A\",\"description\":\"Summation of all fuels used for electricity generation; All sectors; \",\"copyright\":\"None\",\"source\":\"EIA, U.S. Energy Information Administration\",\"iso3166\":\"USA-PA\",\"geography\":\"USA-PA\",\"start\":\"2001\",\"end\":\"2018\",\"updated\":\"2019-03-01T00:40:06-0500\",\"data\":[[\"2018\",215172.50372],[\"2017\",213639.29852],[\"2016\",215066.50936],[\"2015\",214572.2912],[\"2014\",221058.36549],[\"2013\",226785.63047],[\"2012\",223419.71547],[\"2011\",227314.72236],[\"2010\",229752.30616],[\"2009\",219496.14356],[\"2008\",222350.92473],[\"2007\",226088.34025],[\"2006\",218811.59465],[\"2005\",218091.1251],[\"2004\",214658.50077],[\"2003\",206349.513],[\"2002\",204322.878],[\"2001\",196576.591]]}]}\n"
     ]
    },
    {
     "name": "stdout",
     "output_type": "stream",
     "text": [
      "{\"request\":{\"command\":\"series\",\"series_id\":\"ELEC.GEN.ALL-RI-99.A\"},\"series\":[{\"series_id\":\"ELEC.GEN.ALL-RI-99.A\",\"name\":\"Net generation : all fuels : Rhode Island : all sectors : annual\",\"units\":\"thousand megawatthours\",\"f\":\"A\",\"description\":\"Summation of all fuels used for electricity generation; All sectors; \",\"copyright\":\"None\",\"source\":\"EIA, U.S. Energy Information Administration\",\"iso3166\":\"USA-RI\",\"geography\":\"USA-RI\",\"start\":\"2001\",\"end\":\"2018\",\"updated\":\"2019-03-01T00:40:06-0500\",\"data\":[[\"2018\",7166.77581],[\"2017\",7614.94102],[\"2016\",6564.8851],[\"2015\",6939.01892],[\"2014\",6281.74822],[\"2013\",6246.80672],[\"2012\",8309.03583],[\"2011\",8722.27255],[\"2010\",7738.719],[\"2009\",7696.82445],[\"2008\",7387.26577],[\"2007\",7049.84395],[\"2006\",5967.72453],[\"2005\",6053.29408],[\"2004\",4939.41974],[\"2003\",5621.145],[\"2002\",7056.765],[\"2001\",7501.892]]}]}\n",
      "{\"request\":{\"command\":\"series\",\"series_id\":\"ELEC.GEN.ALL-SC-99.A\"},\"series\":[{\"series_id\":\"ELEC.GEN.ALL-SC-99.A\",\"name\":\"Net generation : all fuels : South Carolina : all sectors : annual\",\"units\":\"thousand megawatthours\",\"f\":\"A\",\"description\":\"Summation of all fuels used for electricity generation; All sectors; \",\"copyright\":\"None\",\"source\":\"EIA, U.S. Energy Information Administration\",\"iso3166\":\"USA-SC\",\"geography\":\"USA-SC\",\"start\":\"2001\",\"end\":\"2018\",\"updated\":\"2019-03-01T00:40:06-0500\",\"data\":[[\"2018\",99618.43278],[\"2017\",93080.9477],[\"2016\",96985.76356],[\"2015\",96532.21282],[\"2014\",97158.46493],[\"2013\",95249.89397],[\"2012\",96755.68188],[\"2011\",102972.56717],[\"2010\",104153.13272],[\"2009\",100125.48641],[\"2008\",100978.00477],[\"2007\",103402.14166],[\"2006\",99267.60575],[\"2005\",102514.66484],[\"2004\",97939.92907],[\"2003\",93772.677],[\"2002\",96563.498],[\"2001\",89158.987]]}]}\n",
      "{\"request\":{\"command\":\"series\",\"series_id\":\"ELEC.GEN.ALL-SD-99.A\"},\"series\":[{\"series_id\":\"ELEC.GEN.ALL-SD-99.A\",\"name\":\"Net generation : all fuels : South Dakota : all sectors : annual\",\"units\":\"thousand megawatthours\",\"f\":\"A\",\"description\":\"Summation of all fuels used for electricity generation; All sectors; \",\"copyright\":\"None\",\"source\":\"EIA, U.S. Energy Information Administration\",\"iso3166\":\"USA-SD\",\"geography\":\"USA-SD\",\"start\":\"2001\",\"end\":\"2018\",\"updated\":\"2019-03-01T00:40:06-0500\",\"data\":[[\"2018\",11315.27639],[\"2017\",10935.71884],[\"2016\",11524.18372],[\"2015\",9633.03252],[\"2014\",10995.23976],[\"2013\",10108.8865],[\"2012\",11473.397],[\"2011\",11998.8855],[\"2010\",10049.63613],[\"2009\",8196.531],[\"2008\",7082.67154],[\"2007\",6136.60451],[\"2006\",7132.243],[\"2005\",6520.769],[\"2004\",7510.21399],[\"2003\",7943.837],[\"2002\",7721.958],[\"2001\",7400.743]]}]}\n",
      "{\"request\":{\"command\":\"series\",\"series_id\":\"ELEC.GEN.ALL-TN-99.A\"},\"series\":[{\"series_id\":\"ELEC.GEN.ALL-TN-99.A\",\"name\":\"Net generation : all fuels : Tennessee : all sectors : annual\",\"units\":\"thousand megawatthours\",\"f\":\"A\",\"description\":\"Summation of all fuels used for electricity generation; All sectors; \",\"copyright\":\"None\",\"source\":\"EIA, U.S. Energy Information Administration\",\"iso3166\":\"USA-TN\",\"geography\":\"USA-TN\",\"start\":\"2001\",\"end\":\"2018\",\"updated\":\"2019-03-01T00:40:06-0500\",\"data\":[[\"2018\",80436.76404],[\"2017\",79046.39705],[\"2016\",79340.63331],[\"2015\",75214.63614],[\"2014\",79506.88648],[\"2013\",79651.61943],[\"2012\",77724.2638],[\"2011\",81103.86222],[\"2010\",82348.62483],[\"2009\",79716.88865],[\"2008\",90663.31248],[\"2007\",95113.40875],[\"2006\",93911.1016],[\"2005\",97117.16522],[\"2004\",97594.54187],[\"2003\",92221.791],[\"2002\",96114.262],[\"2001\",96221.976]]}]}\n",
      "{\"request\":{\"command\":\"series\",\"series_id\":\"ELEC.GEN.ALL-TX-99.A\"},\"series\":[{\"series_id\":\"ELEC.GEN.ALL-TX-99.A\",\"name\":\"Net generation : all fuels : Texas : all sectors : annual\",\"units\":\"thousand megawatthours\",\"f\":\"A\",\"description\":\"Summation of all fuels used for electricity generation; All sectors; \",\"copyright\":\"None\",\"source\":\"EIA, U.S. Energy Information Administration\",\"iso3166\":\"USA-TX\",\"geography\":\"USA-TX\",\"start\":\"2001\",\"end\":\"2018\",\"updated\":\"2019-03-01T00:40:06-0500\",\"data\":[[\"2018\",474777.11619],[\"2017\",452794.46297],[\"2016\",454047.59107],[\"2015\",449826.33597],[\"2014\",437629.66787],[\"2013\",433380.16569],[\"2012\",429812.50979],[\"2011\",435476.92358],[\"2010\",411695.0462],[\"2009\",397167.9095],[\"2008\",404787.78097],[\"2007\",405492.29554],[\"2006\",400582.87774],[\"2005\",396668.72216],[\"2004\",390299.1323],[\"2003\",379199.685],[\"2002\",385628.542],[\"2001\",372580.002]]}]}\n",
      "{\"request\":{\"command\":\"series\",\"series_id\":\"ELEC.GEN.ALL-UT-99.A\"},\"series\":[{\"series_id\":\"ELEC.GEN.ALL-UT-99.A\",\"name\":\"Net generation : all fuels : Utah : all sectors : annual\",\"units\":\"thousand megawatthours\",\"f\":\"A\",\"description\":\"Summation of all fuels used for electricity generation; All sectors; \",\"copyright\":\"None\",\"source\":\"EIA, U.S. Energy Information Administration\",\"iso3166\":\"USA-UT\",\"geography\":\"USA-UT\",\"start\":\"2001\",\"end\":\"2018\",\"updated\":\"2019-03-01T00:40:06-0500\",\"data\":[[\"2018\",39850.5864],[\"2017\",37411.87622],[\"2016\",38133.92799],[\"2015\",41949.1203],[\"2014\",43784.52588],[\"2013\",42516.75082],[\"2012\",39402.96075],[\"2011\",40836.15001],[\"2010\",42249.35459],[\"2009\",43542.94558],[\"2008\",46578.76263],[\"2007\",45372.57471],[\"2006\",41263.32391],[\"2005\",38165.13087],[\"2004\",38211.97746],[\"2003\",38023.666],[\"2002\",36608.003],[\"2001\",35853.75]]}]}\n",
      "{\"request\":{\"command\":\"series\",\"series_id\":\"ELEC.GEN.ALL-VT-99.A\"},\"series\":[{\"series_id\":\"ELEC.GEN.ALL-VT-99.A\",\"name\":\"Net generation : all fuels : Vermont : all sectors : annual\",\"units\":\"thousand megawatthours\",\"f\":\"A\",\"description\":\"Summation of all fuels used for electricity generation; All sectors; \",\"copyright\":\"None\",\"source\":\"EIA, U.S. Energy Information Administration\",\"iso3166\":\"USA-VT\",\"geography\":\"USA-VT\",\"start\":\"2001\",\"end\":\"2018\",\"updated\":\"2019-03-01T00:40:06-0500\",\"data\":[[\"2018\",2357.10486],[\"2017\",2141.38837],[\"2016\",1911.20709],[\"2015\",1982.04747],[\"2014\",7031.39397],[\"2013\",6884.91],[\"2012\",6611.78611],[\"2011\",6776.21881],[\"2010\",6619.99],[\"2009\",7282.34831],[\"2008\",6820.21596],[\"2007\",5823.58151],[\"2006\",7084.34367],[\"2005\",5716.75462],[\"2004\",5470.37877],[\"2003\",6027.962],[\"2002\",5456.19],[\"2001\",5480.614]]}]}\n",
      "{\"request\":{\"command\":\"series\",\"series_id\":\"ELEC.GEN.ALL-VA-99.A\"},\"series\":[{\"series_id\":\"ELEC.GEN.ALL-VA-99.A\",\"name\":\"Net generation : all fuels : Virginia : all sectors : annual\",\"units\":\"thousand megawatthours\",\"f\":\"A\",\"description\":\"Summation of all fuels used for electricity generation; All sectors; \",\"copyright\":\"None\",\"source\":\"EIA, U.S. Energy Information Administration\",\"iso3166\":\"USA-VA\",\"geography\":\"USA-VA\",\"start\":\"2001\",\"end\":\"2018\",\"updated\":\"2019-03-01T00:40:06-0500\",\"data\":[[\"2018\",95445.51894],[\"2017\",90417.35104],[\"2016\",92554.87591],[\"2015\",84411.59208],[\"2014\",77137.43841],[\"2013\",76896.56506],[\"2012\",70739.23494],[\"2011\",66670.85907],[\"2010\",72966.45599],[\"2009\",70082.06606],[\"2008\",72678.5314],[\"2007\",78360.5071],[\"2006\",73069.53671],[\"2005\",78943.04496],[\"2004\",78900.03996],[\"2003\",75309.42],[\"2002\",75005.651],[\"2001\",74104.75]]}]}\n",
      "{\"request\":{\"command\":\"series\",\"series_id\":\"ELEC.GEN.ALL-WA-99.A\"},\"series\":[{\"series_id\":\"ELEC.GEN.ALL-WA-99.A\",\"name\":\"Net generation : all fuels : Washington : all sectors : annual\",\"units\":\"thousand megawatthours\",\"f\":\"A\",\"description\":\"Summation of all fuels used for electricity generation; All sectors; \",\"copyright\":\"None\",\"source\":\"EIA, U.S. Energy Information Administration\",\"iso3166\":\"USA-WA\",\"geography\":\"USA-WA\",\"start\":\"2001\",\"end\":\"2018\",\"updated\":\"2019-03-01T00:40:06-0500\",\"data\":[[\"2018\",116792.81461],[\"2017\",115912.02828],[\"2016\",114086.58224],[\"2015\",109287.45791],[\"2014\",116334.36251],[\"2013\",114172.91623],[\"2012\",116835.47343],[\"2011\",115262.60082],[\"2010\",103472.72898],[\"2009\",104470.13259],[\"2008\",110828.45104],[\"2007\",106990.21654],[\"2006\",108203.15532],[\"2005\",101965.85033],[\"2004\",102165.05213],[\"2003\",100094.691],[\"2002\",102765.048],[\"2001\",83048.669]]}]}\n",
      "{\"request\":{\"command\":\"series\",\"series_id\":\"ELEC.GEN.ALL-WV-99.A\"},\"series\":[{\"series_id\":\"ELEC.GEN.ALL-WV-99.A\",\"name\":\"Net generation : all fuels : West Virginia : all sectors : annual\",\"units\":\"thousand megawatthours\",\"f\":\"A\",\"description\":\"Summation of all fuels used for electricity generation; All sectors; \",\"copyright\":\"None\",\"source\":\"EIA, U.S. Energy Information Administration\",\"iso3166\":\"USA-WV\",\"geography\":\"USA-WV\",\"start\":\"2001\",\"end\":\"2018\",\"updated\":\"2019-03-01T00:40:06-0500\",\"data\":[[\"2018\",67131.64301],[\"2017\",73357.08017],[\"2016\",75942.96757],[\"2015\",72295.2689],[\"2014\",81059.57667],[\"2013\",75863.06664],[\"2012\",73413.4047],[\"2011\",78999.62354],[\"2010\",80788.94723],[\"2009\",70782.5143],[\"2008\",91123.09661],[\"2007\",93933.10909],[\"2006\",93815.80421],[\"2005\",93626.28529],[\"2004\",89749.56171],[\"2003\",94711.554],[\"2002\",94761.751],[\"2001\",81836.725]]}]}\n",
      "{\"request\":{\"command\":\"series\",\"series_id\":\"ELEC.GEN.ALL-WI-99.A\"},\"series\":[{\"series_id\":\"ELEC.GEN.ALL-WI-99.A\",\"name\":\"Net generation : all fuels : Wisconsin : all sectors : annual\",\"units\":\"thousand megawatthours\",\"f\":\"A\",\"description\":\"Summation of all fuels used for electricity generation; All sectors; \",\"copyright\":\"None\",\"source\":\"EIA, U.S. Energy Information Administration\",\"iso3166\":\"USA-WI\",\"geography\":\"USA-WI\",\"start\":\"2001\",\"end\":\"2018\",\"updated\":\"2019-03-01T00:40:06-0500\",\"data\":[[\"2018\",67456.90254],[\"2017\",65107.10345],[\"2016\",64966.61115],[\"2015\",66360.18322],[\"2014\",61064.79568],[\"2013\",65962.79179],[\"2012\",63750.93789],[\"2011\",63289.34377],[\"2010\",64314.06709],[\"2009\",59959.06041],[\"2008\",63479.55495],[\"2007\",63390.6297],[\"2006\",61639.84347],[\"2005\",61824.66358],[\"2004\",60444.93342],[\"2003\",60122.425],[\"2002\",58431.438],[\"2001\",58763.431]]}]}\n",
      "{\"request\":{\"command\":\"series\",\"series_id\":\"ELEC.GEN.ALL-WY-99.A\"},\"series\":[{\"series_id\":\"ELEC.GEN.ALL-WY-99.A\",\"name\":\"Net generation : all fuels : Wyoming : all sectors : annual\",\"units\":\"thousand megawatthours\",\"f\":\"A\",\"description\":\"Summation of all fuels used for electricity generation; All sectors; \",\"copyright\":\"None\",\"source\":\"EIA, U.S. Energy Information Administration\",\"iso3166\":\"USA-WY\",\"geography\":\"USA-WY\",\"start\":\"2001\",\"end\":\"2018\",\"updated\":\"2019-03-01T00:40:06-0500\",\"data\":[[\"2018\",46320.15362],[\"2017\",46741.84595],[\"2016\",46656.63013],[\"2015\",48966.5191],[\"2014\",49696.18336],[\"2013\",52483.0654],[\"2012\",49588.60621],[\"2011\",47638.47083],[\"2010\",48119.25384],[\"2009\",46029.21247],[\"2008\",46500.44832],[\"2007\",45633.48639],[\"2006\",45400.36984],[\"2005\",45567.30697],[\"2004\",44807.60443],[\"2003\",43626.602],[\"2002\",43783.839],[\"2001\",44776.938]]}]}\n"
     ]
    }
   ],
   "source": [
    "#Use a loop to extract annual values for 2018 from all states\n",
    "\n",
    "data_set = []\n",
    "for state in states:\n",
    "    state_data = requests.get(start_url + state + end_url)\n",
    "    print(state_data.text)\n",
    "\n",
    "#Look at one of the examples for an example of how to extract an item from a list\n",
    "#For some reason it just reprints the same state's info 50 times"
   ]
  },
  {
   "cell_type": "code",
   "execution_count": 96,
   "metadata": {},
   "outputs": [
    {
     "ename": "NameError",
     "evalue": "name 'beginning' is not defined",
     "output_type": "error",
     "traceback": [
      "\u001b[1;31m---------------------------------------------------------------------------\u001b[0m",
      "\u001b[1;31mNameError\u001b[0m                                 Traceback (most recent call last)",
      "\u001b[1;32m<ipython-input-96-54aa427ac67a>\u001b[0m in \u001b[0;36m<module>\u001b[1;34m\u001b[0m\n\u001b[0;32m      1\u001b[0m \u001b[0mdata_list\u001b[0m \u001b[1;33m=\u001b[0m\u001b[1;33m[\u001b[0m\u001b[1;33m]\u001b[0m\u001b[1;33m\u001b[0m\u001b[1;33m\u001b[0m\u001b[0m\n\u001b[0;32m      2\u001b[0m \u001b[1;32mfor\u001b[0m \u001b[0mstate\u001b[0m \u001b[1;32min\u001b[0m \u001b[0mstates\u001b[0m\u001b[1;33m:\u001b[0m\u001b[1;33m\u001b[0m\u001b[1;33m\u001b[0m\u001b[0m\n\u001b[1;32m----> 3\u001b[1;33m    \u001b[0mstate_data\u001b[0m \u001b[1;33m=\u001b[0m \u001b[0mrequests\u001b[0m\u001b[1;33m.\u001b[0m\u001b[0mget\u001b[0m\u001b[1;33m(\u001b[0m\u001b[0mbeginning\u001b[0m \u001b[1;33m+\u001b[0m \u001b[0mstate\u001b[0m\u001b[1;33m+\u001b[0m \u001b[0mend\u001b[0m\u001b[1;33m)\u001b[0m\u001b[1;33m.\u001b[0m\u001b[0mjson\u001b[0m\u001b[1;33m(\u001b[0m\u001b[1;33m)\u001b[0m\u001b[1;33m\u001b[0m\u001b[1;33m\u001b[0m\u001b[0m\n\u001b[0m\u001b[0;32m      4\u001b[0m    \u001b[0mstate_df\u001b[0m\u001b[1;33m=\u001b[0m\u001b[0mpd\u001b[0m\u001b[1;33m.\u001b[0m\u001b[0mDataFrame\u001b[0m\u001b[1;33m(\u001b[0m\u001b[0mstate_data\u001b[0m\u001b[1;33m[\u001b[0m\u001b[1;34m\"series\"\u001b[0m\u001b[1;33m]\u001b[0m\u001b[1;33m[\u001b[0m\u001b[1;36m0\u001b[0m\u001b[1;33m]\u001b[0m\u001b[1;33m[\u001b[0m\u001b[1;34m\"data\"\u001b[0m\u001b[1;33m]\u001b[0m\u001b[1;33m,\u001b[0m \u001b[0mcolumns\u001b[0m\u001b[1;33m=\u001b[0m\u001b[0mColumns\u001b[0m\u001b[1;33m)\u001b[0m\u001b[1;33m\u001b[0m\u001b[1;33m\u001b[0m\u001b[0m\n\u001b[0;32m      5\u001b[0m    \u001b[0mstate_df\u001b[0m\u001b[1;33m[\u001b[0m\u001b[1;34m\"state_name\"\u001b[0m\u001b[1;33m]\u001b[0m \u001b[1;33m=\u001b[0m \u001b[0mstate\u001b[0m\u001b[1;33m\u001b[0m\u001b[1;33m\u001b[0m\u001b[0m\n",
      "\u001b[1;31mNameError\u001b[0m: name 'beginning' is not defined"
     ]
    }
   ],
   "source": [
    "data_list =[]\n",
    "for state in states:\n",
    "   state_data = requests.get(beginning + state+ end).json()\n",
    "   state_df=pd.DataFrame(state_data[\"series\"][0][\"data\"], columns=Columns)\n",
    "   state_df[\"state_name\"] = state\n",
    "   data_list.append(state_df)\n",
    "\n",
    "state_full_data=pd.concat(data_list)"
   ]
  },
  {
   "cell_type": "code",
   "execution_count": 77,
   "metadata": {},
   "outputs": [],
   "source": []
  },
  {
   "cell_type": "code",
   "execution_count": 78,
   "metadata": {},
   "outputs": [
    {
     "ename": "NameError",
     "evalue": "name 'columns' is not defined",
     "output_type": "error",
     "traceback": [
      "\u001b[1;31m---------------------------------------------------------------------------\u001b[0m",
      "\u001b[1;31mNameError\u001b[0m                                 Traceback (most recent call last)",
      "\u001b[1;32m<ipython-input-78-0c7477eb6e12>\u001b[0m in \u001b[0;36m<module>\u001b[1;34m\u001b[0m\n\u001b[1;32m----> 1\u001b[1;33m \u001b[0mstate_df\u001b[0m \u001b[1;33m=\u001b[0m \u001b[0mpd\u001b[0m\u001b[1;33m.\u001b[0m\u001b[0mDataFrame\u001b[0m\u001b[1;33m(\u001b[0m\u001b[0mstate_data\u001b[0m\u001b[1;33m,\u001b[0m \u001b[0mColumns\u001b[0m\u001b[1;33m=\u001b[0m\u001b[0mcolumns\u001b[0m\u001b[1;33m)\u001b[0m\u001b[1;33m\u001b[0m\u001b[1;33m\u001b[0m\u001b[0m\n\u001b[0m",
      "\u001b[1;31mNameError\u001b[0m: name 'columns' is not defined"
     ]
    }
   ],
   "source": [
    "state_df = pd.DataFrame(state_data, Columns=columns)"
   ]
  },
  {
   "cell_type": "code",
   "execution_count": null,
   "metadata": {},
   "outputs": [],
   "source": []
  },
  {
   "cell_type": "code",
   "execution_count": null,
   "metadata": {},
   "outputs": [],
   "source": []
  },
  {
   "cell_type": "code",
   "execution_count": null,
   "metadata": {},
   "outputs": [],
   "source": [
    "state_df[\"state_name\"] = state\n",
    "   # data_list.append(state_df)\n",
    "print"
   ]
  },
  {
   "cell_type": "code",
   "execution_count": null,
   "metadata": {},
   "outputs": [],
   "source": [
    "state_full_data=pd.concat(data_list)"
   ]
  },
  {
   "cell_type": "code",
   "execution_count": null,
   "metadata": {},
   "outputs": [],
   "source": [
    "state_full_data.to_csv(\"states_all.csv\", index=False, header=True)"
   ]
  },
  {
   "cell_type": "code",
   "execution_count": null,
   "metadata": {},
   "outputs": [],
   "source": []
  },
  {
   "cell_type": "code",
   "execution_count": null,
   "metadata": {},
   "outputs": [],
   "source": [
    "#create database in SQL"
   ]
  },
  {
   "cell_type": "code",
   "execution_count": null,
   "metadata": {},
   "outputs": [],
   "source": [
    "#engine"
   ]
  },
  {
   "cell_type": "code",
   "execution_count": null,
   "metadata": {},
   "outputs": [],
   "source": []
  },
  {
   "cell_type": "code",
   "execution_count": null,
   "metadata": {},
   "outputs": [],
   "source": []
  },
  {
   "cell_type": "raw",
   "metadata": {},
   "source": []
  }
 ],
 "metadata": {
  "kernelspec": {
   "display_name": "Python 3",
   "language": "python",
   "name": "python3"
  },
  "language_info": {
   "codemirror_mode": {
    "name": "ipython",
    "version": 3
   },
   "file_extension": ".py",
   "mimetype": "text/x-python",
   "name": "python",
   "nbconvert_exporter": "python",
   "pygments_lexer": "ipython3",
   "version": "3.7.1"
  }
 },
 "nbformat": 4,
 "nbformat_minor": 2
}
